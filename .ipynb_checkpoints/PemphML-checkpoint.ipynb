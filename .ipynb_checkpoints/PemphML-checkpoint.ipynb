{
 "cells": [
  {
   "cell_type": "code",
   "execution_count": 20,
   "id": "4e3a44b9-1ca6-4643-85d0-ba15d0c73224",
   "metadata": {},
   "outputs": [],
   "source": [
    "import os\n",
    "import pandas as pd\n",
    "import requests\n",
    "from PIL import Image\n",
    "from io import BytesIO\n",
    "from sklearn.cluster import KMeans\n",
    "import numpy as np\n",
    "import cv2\n",
    "import matplotlib.pyplot as plt\n",
    "\n",
    "# Load your cleaned dataframe\n",
    "df = pd.read_csv(\"fitzpatrick17k.csv\")\n",
    "df = df.dropna(subset=['url']).reset_index(drop=True)\n",
    "\n",
    "# Filter only Psoriasis images\n",
    "psoriasis_df = df[df['label'].str.lower() == 'psoriasis']\n",
    "os.makedirs(\"images/psoriasis\", exist_ok=True)\n"
   ]
  },
  {
   "cell_type": "code",
   "execution_count": 16,
   "id": "bd55446f-08e7-4ddb-87bc-a5d54bdead99",
   "metadata": {},
   "outputs": [
    {
     "name": "stdout",
     "output_type": "stream",
     "text": [
      "label\n",
      "psoriasis                      653\n",
      "squamous cell carcinoma        581\n",
      "lichen planus                  491\n",
      "basal cell carcinoma           468\n",
      "allergic contact dermatitis    430\n",
      "                              ... \n",
      "port wine stain                 59\n",
      "erythema elevatum diutinum      55\n",
      "xanthomas                       53\n",
      "pustular psoriasis              53\n",
      "pilomatricoma                   53\n",
      "Name: count, Length: 114, dtype: int64\n"
     ]
    }
   ],
   "source": [
    "unique_labels = df['label'].unique()\n",
    "label_counts = df['label'].value_counts()\n",
    "print(label_counts)\n"
   ]
  },
  {
   "cell_type": "code",
   "execution_count": 27,
   "id": "37963eaf-c362-44b1-9bb6-2616e34f9b39",
   "metadata": {},
   "outputs": [],
   "source": [
    "# # Downloading all of the Psoriasis images from the url field\n",
    "\n",
    "# def download_image(url, save_path):\n",
    "#     headers = {'User-Agent': 'Mozilla/5.0'}\n",
    "#     try:\n",
    "#         response = requests.get(url, headers=headers, timeout=10)\n",
    "#         if response.status_code == 200:\n",
    "#             try:\n",
    "#                 image = Image.open(BytesIO(response.content)).convert(\"RGB\")\n",
    "#                 image.save(save_path)\n",
    "#                 return True\n",
    "#             except Exception as e:\n",
    "#                 print(f\"Invalid image at {url} | {e}\")\n",
    "#         else:\n",
    "#             print(f\"Bad status ({response.status_code}) for {url}\")\n",
    "#     except Exception as e:\n",
    "#         print(f\"Failed to download {url} | {e}\")\n",
    "#     return False\n",
    "\n",
    "\n",
    "# # Download all Psoriasis images\n",
    "# for idx, row in psoriasis_df.iterrows():\n",
    "#     img_name = f\"images/psoriasis/psoriasis_{idx}.jpg\"\n",
    "#     if not os.path.exists(img_name):\n",
    "#         download_image(row['url'], img_name)\n"
   ]
  },
  {
   "cell_type": "code",
   "execution_count": 38,
   "id": "54881284-fb59-49c3-98e2-4b2376c030fa",
   "metadata": {},
   "outputs": [
    {
     "name": "stdout",
     "output_type": "stream",
     "text": [
      "Number of files in 'images/psoriasis': 1959\n"
     ]
    }
   ],
   "source": [
    "psoriasis_dir = \"images/psoriasis_clustered\"\n",
    "num_files = len([f for f in os.listdir(psoriasis_dir) if os.path.isfile(os.path.join(psoriasis_dir, f))])\n",
    "print(f\"Number of files in 'images/psoriasis': {num_files}\")"
   ]
  },
  {
   "cell_type": "code",
   "execution_count": 34,
   "id": "f12f0fa8-5ebd-478c-8f67-8ac92ffc81ad",
   "metadata": {},
   "outputs": [],
   "source": [
    "# This method will make the sizing of the images the same while maintaining the aspect ratio\n",
    "def resize_with_padding(image, target_size=(256, 256)):\n",
    "    h, w = image.shape[:2]\n",
    "    scale = min(target_size[0]/h, target_size[1]/w)\n",
    "    new_h, new_w = int(h * scale), int(w * scale)\n",
    "    \n",
    "    resized = cv2.resize(image, (new_w, new_h))\n",
    "    \n",
    "    top = (target_size[0] - new_h) // 2\n",
    "    bottom = target_size[0] - new_h - top\n",
    "    left = (target_size[1] - new_w) // 2\n",
    "    right = target_size[1] - new_w - left\n",
    "    \n",
    "    padded = cv2.copyMakeBorder(resized, top, bottom, left, right, cv2.BORDER_CONSTANT, value=[0, 0, 0])\n",
    "    return padded\n"
   ]
  },
  {
   "cell_type": "code",
   "execution_count": 35,
   "id": "82f045d3-b30b-4dc1-9d1b-b3b38ac8615a",
   "metadata": {},
   "outputs": [],
   "source": [
    "# Performs K-mean clustering on the given image path\n",
    "def segment_image_kmeans(image_path, k=3):\n",
    "    image = cv2.imread(image_path)\n",
    "    image = resize_with_padding(image, (256, 256))\n",
    "    img_flat = image.reshape((-1, 3))\n",
    "\n",
    "    kmeans = KMeans(n_clusters=k, random_state=42).fit(img_flat)\n",
    "    clustered = kmeans.labels_.reshape((256, 256))\n",
    "\n",
    "    return image, clustered\n"
   ]
  },
  {
   "cell_type": "code",
   "execution_count": 36,
   "id": "7d02240d-5134-45c6-8922-f298d4c0437d",
   "metadata": {},
   "outputs": [],
   "source": [
    "# Displays the clusters onto the actual images\n",
    "def show_cluster_overlay(image, clustered_mask, cluster_id, save_path):\n",
    "    mask = (clustered_mask == cluster_id).astype(np.uint8) * 255\n",
    "    mask_color = cv2.cvtColor(mask, cv2.COLOR_GRAY2BGR)\n",
    "    overlay = cv2.addWeighted(image, 0.7, mask_color, 0.3, 0)\n",
    "\n",
    "    plt.figure(figsize=(10,4))\n",
    "    plt.subplot(1, 3, 1)\n",
    "    plt.title(\"Original\")\n",
    "    plt.imshow(cv2.cvtColor(image, cv2.COLOR_BGR2RGB))\n",
    "    plt.axis(\"off\")\n",
    "\n",
    "    plt.subplot(1, 3, 2)\n",
    "    plt.title(\"Mask\")\n",
    "    plt.imshow(mask, cmap='gray')\n",
    "    plt.axis(\"off\")\n",
    "\n",
    "    plt.subplot(1, 3, 3)\n",
    "    plt.title(\"Overlay\")\n",
    "    plt.imshow(cv2.cvtColor(overlay, cv2.COLOR_BGR2RGB))\n",
    "    plt.axis(\"off\")\n",
    "\n",
    "    plt.tight_layout()\n",
    "    plt.savefig(save_path)\n",
    "    plt.close()"
   ]
  },
  {
   "cell_type": "code",
   "execution_count": 37,
   "id": "2cda0712-6bc2-4818-84cb-1d9b2e113472",
   "metadata": {},
   "outputs": [],
   "source": [
    "input_dir = \"images/psoriasis\"\n",
    "output_dir = \"images/psoriasis_clustered\"\n",
    "os.makedirs(output_dir, exist_ok=True)\n",
    "\n",
    "for i, filename in enumerate(os.listdir(input_dir)):\n",
    "    if not filename.lower().endswith(('.jpg', '.jpeg', '.png')):\n",
    "        continue\n",
    "\n",
    "    img_path = os.path.join(input_dir, filename)\n",
    "    image, clustered = segment_image_kmeans(img_path, k=3)\n",
    "\n",
    "    # Save one overlay per cluster to manually inspect which one captures lesions best\n",
    "    for cluster_id in range(3):\n",
    "        out_path = os.path.join(output_dir, f\"{filename[:-4]}_cluster{cluster_id}.png\")\n",
    "        show_cluster_overlay(image, clustered, cluster_id, out_path)"
   ]
  }
 ],
 "metadata": {
  "kernelspec": {
   "display_name": "Python 3 (ipykernel)",
   "language": "python",
   "name": "python3"
  },
  "language_info": {
   "codemirror_mode": {
    "name": "ipython",
    "version": 3
   },
   "file_extension": ".py",
   "mimetype": "text/x-python",
   "name": "python",
   "nbconvert_exporter": "python",
   "pygments_lexer": "ipython3",
   "version": "3.12.4"
  }
 },
 "nbformat": 4,
 "nbformat_minor": 5
}
