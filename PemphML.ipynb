{
 "cells": [
  {
   "cell_type": "code",
   "execution_count": 12,
   "id": "4e3a44b9-1ca6-4643-85d0-ba15d0c73224",
   "metadata": {},
   "outputs": [],
   "source": [
    "import os\n",
    "import pandas as pd\n",
    "import requests\n",
    "from PIL import Image\n",
    "from io import BytesIO\n",
    "from sklearn.cluster import KMeans\n",
    "import numpy as np\n",
    "import cv2\n",
    "import matplotlib.pyplot as plt\n",
    "\n",
    "# Load your cleaned dataframe\n",
    "df = pd.read_csv(\"fitzpatrick17k.csv\")\n",
    "df = df.dropna(subset=['url']).reset_index(drop=True)\n",
    "\n",
    "# Filter only Psoriasis images\n",
    "psoriasis_df = df[df['label'].str.lower() == 'psoriasis']\n",
    "os.makedirs(\"images/psoriasis\", exist_ok=True)\n"
   ]
  },
  {
   "cell_type": "code",
   "execution_count": 16,
   "id": "bd55446f-08e7-4ddb-87bc-a5d54bdead99",
   "metadata": {},
   "outputs": [
    {
     "name": "stdout",
     "output_type": "stream",
     "text": [
      "label\n",
      "psoriasis                      653\n",
      "squamous cell carcinoma        581\n",
      "lichen planus                  491\n",
      "basal cell carcinoma           468\n",
      "allergic contact dermatitis    430\n",
      "                              ... \n",
      "port wine stain                 59\n",
      "erythema elevatum diutinum      55\n",
      "xanthomas                       53\n",
      "pustular psoriasis              53\n",
      "pilomatricoma                   53\n",
      "Name: count, Length: 114, dtype: int64\n"
     ]
    }
   ],
   "source": [
    "unique_labels = df['label'].unique()\n",
    "label_counts = df['label'].value_counts()\n",
    "print(label_counts)\n"
   ]
  },
  {
   "cell_type": "code",
   "execution_count": 27,
   "id": "37963eaf-c362-44b1-9bb6-2616e34f9b39",
   "metadata": {},
   "outputs": [],
   "source": [
    "# Downloading all of the Psoriasis images from the url field\n",
    "\n",
    "def download_image(url, save_path):\n",
    "    headers = {'User-Agent': 'Mozilla/5.0'}\n",
    "    try:\n",
    "        response = requests.get(url, headers=headers, timeout=10)\n",
    "        if response.status_code == 200:\n",
    "            try:\n",
    "                image = Image.open(BytesIO(response.content)).convert(\"RGB\")\n",
    "                image.save(save_path)\n",
    "                return True\n",
    "            except Exception as e:\n",
    "                print(f\"Invalid image at {url} | {e}\")\n",
    "        else:\n",
    "            print(f\"Bad status ({response.status_code}) for {url}\")\n",
    "    except Exception as e:\n",
    "        print(f\"Failed to download {url} | {e}\")\n",
    "    return False\n",
    "\n",
    "\n",
    "# Download all Psoriasis images\n",
    "for idx, row in psoriasis_df.iterrows():\n",
    "    img_name = f\"images/psoriasis/psoriasis_{idx}.jpg\"\n",
    "    if not os.path.exists(img_name):\n",
    "        download_image(row['url'], img_name)\n"
   ]
  },
  {
   "cell_type": "code",
   "execution_count": 38,
   "id": "54881284-fb59-49c3-98e2-4b2376c030fa",
   "metadata": {},
   "outputs": [
    {
     "name": "stdout",
     "output_type": "stream",
     "text": [
      "Number of files in 'images/psoriasis': 1959\n"
     ]
    }
   ],
   "source": []
  },
  {
   "cell_type": "code",
   "execution_count": null,
   "id": "f43983c6-8b08-4f0f-818d-23219739d494",
   "metadata": {},
   "outputs": [],
   "source": [
    "#############################################################################################################################################"
   ]
  },
  {
   "cell_type": "code",
   "execution_count": null,
   "id": "cf85d3fe-e65b-4f93-8770-6bc31883b1ad",
   "metadata": {},
   "outputs": [],
   "source": []
  },
  {
   "cell_type": "code",
   "execution_count": null,
   "id": "1229bc44-867d-4bdc-bc67-e4ba65629776",
   "metadata": {},
   "outputs": [],
   "source": []
  },
  {
   "cell_type": "code",
   "execution_count": 6,
   "id": "f12f0fa8-5ebd-478c-8f67-8ac92ffc81ad",
   "metadata": {},
   "outputs": [],
   "source": []
  },
  {
   "cell_type": "code",
   "execution_count": 7,
   "id": "82f045d3-b30b-4dc1-9d1b-b3b38ac8615a",
   "metadata": {},
   "outputs": [],
   "source": []
  },
  {
   "cell_type": "code",
   "execution_count": 9,
   "id": "7d02240d-5134-45c6-8922-f298d4c0437d",
   "metadata": {},
   "outputs": [],
   "source": []
  },
  {
   "cell_type": "code",
   "execution_count": 37,
   "id": "2cda0712-6bc2-4818-84cb-1d9b2e113472",
   "metadata": {},
   "outputs": [],
   "source": []
  },
  {
   "cell_type": "code",
   "execution_count": null,
   "id": "f971e213-f265-47d0-8929-452c17e9943a",
   "metadata": {},
   "outputs": [],
   "source": [
    "##########################################################"
   ]
  },
  {
   "cell_type": "code",
   "execution_count": 1,
   "id": "e7b0e3ca-cb58-4337-9f7e-539fa37f0575",
   "metadata": {},
   "outputs": [],
   "source": []
  },
  {
   "cell_type": "code",
   "execution_count": 2,
   "id": "b126b28c-4d1d-4855-a4d0-b85250223a0b",
   "metadata": {},
   "outputs": [],
   "source": []
  },
  {
   "cell_type": "code",
   "execution_count": 10,
   "id": "5b999d99-e021-46b1-91be-5abd2b00ac91",
   "metadata": {},
   "outputs": [],
   "source": []
  }
 ],
 "metadata": {
  "kernelspec": {
   "display_name": "Python 3 (ipykernel)",
   "language": "python",
   "name": "python3"
  },
  "language_info": {
   "codemirror_mode": {
    "name": "ipython",
    "version": 3
   },
   "file_extension": ".py",
   "mimetype": "text/x-python",
   "name": "python",
   "nbconvert_exporter": "python",
   "pygments_lexer": "ipython3",
   "version": "3.12.4"
  }
 },
 "nbformat": 4,
 "nbformat_minor": 5
}
