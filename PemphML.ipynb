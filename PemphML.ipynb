{
 "cells": [
  {
   "cell_type": "code",
   "execution_count": 1,
   "id": "4e3a44b9-1ca6-4643-85d0-ba15d0c73224",
   "metadata": {},
   "outputs": [],
   "source": [
    "import os\n",
    "import pandas as pd\n",
    "import requests\n",
    "from PIL import Image\n",
    "from io import BytesIO\n",
    "from sklearn.cluster import KMeans\n",
    "import numpy as np\n",
    "import cv2\n",
    "import matplotlib.pyplot as plt\n",
    "\n",
    "# Load your cleaned dataframe\n",
    "df = pd.read_csv(\"fitzpatrick17k.csv\")\n",
    "df = df.dropna(subset=['url']).reset_index(drop=True)\n",
    "\n",
    "# Filter only Psoriasis images\n",
    "psoriasis_df = df[df['label'].str.lower() == 'psoriasis']\n",
    "os.makedirs(\"images/psoriasis\", exist_ok=True)\n"
   ]
  },
  {
   "cell_type": "code",
   "execution_count": 2,
   "id": "bd55446f-08e7-4ddb-87bc-a5d54bdead99",
   "metadata": {},
   "outputs": [
    {
     "name": "stdout",
     "output_type": "stream",
     "text": [
      "label\n",
      "psoriasis                      653\n",
      "squamous cell carcinoma        581\n",
      "lichen planus                  491\n",
      "basal cell carcinoma           468\n",
      "allergic contact dermatitis    430\n",
      "                              ... \n",
      "port wine stain                 59\n",
      "erythema elevatum diutinum      55\n",
      "xanthomas                       53\n",
      "pustular psoriasis              53\n",
      "pilomatricoma                   53\n",
      "Name: count, Length: 114, dtype: int64\n"
     ]
    }
   ],
   "source": [
    "unique_labels = df['label'].unique()\n",
    "label_counts = df['label'].value_counts()\n",
    "print(label_counts)\n"
   ]
  },
  {
   "cell_type": "code",
   "execution_count": 27,
   "id": "37963eaf-c362-44b1-9bb6-2616e34f9b39",
   "metadata": {},
   "outputs": [],
   "source": [
    "# # Downloading all of the Psoriasis images from the url field\n",
    "\n",
    "# def download_image(url, save_path):\n",
    "#     headers = {'User-Agent': 'Mozilla/5.0'}\n",
    "#     try:\n",
    "#         response = requests.get(url, headers=headers, timeout=10)\n",
    "#         if response.status_code == 200:\n",
    "#             try:\n",
    "#                 image = Image.open(BytesIO(response.content)).convert(\"RGB\")\n",
    "#                 image.save(save_path)\n",
    "#                 return True\n",
    "#             except Exception as e:\n",
    "#                 print(f\"Invalid image at {url} | {e}\")\n",
    "#         else:\n",
    "#             print(f\"Bad status ({response.status_code}) for {url}\")\n",
    "#     except Exception as e:\n",
    "#         print(f\"Failed to download {url} | {e}\")\n",
    "#     return False\n",
    "\n",
    "\n",
    "# # Download all Psoriasis images\n",
    "# for idx, row in psoriasis_df.iterrows():\n",
    "#     img_name = f\"images/psoriasis/psoriasis_{idx}.jpg\"\n",
    "#     if not os.path.exists(img_name):\n",
    "#         download_image(row['url'], img_name)\n"
   ]
  },
  {
   "cell_type": "code",
   "execution_count": 4,
   "id": "d406124f-f80f-4b6b-899c-bcd65395f368",
   "metadata": {},
   "outputs": [
    {
     "name": "stdout",
     "output_type": "stream",
     "text": [
      ".DS_Store file deleted.\n"
     ]
    }
   ],
   "source": [
    "import os\n",
    "\n",
    "ds_store_path = \"images/psoriasis/.DS_Store\"\n",
    "if os.path.exists(ds_store_path):\n",
    "    os.remove(ds_store_path)\n",
    "    print(\".DS_Store file deleted.\")\n",
    "else:\n",
    "    print(\".DS_Store not found.\")\n"
   ]
  },
  {
   "cell_type": "code",
   "execution_count": 5,
   "id": "54881284-fb59-49c3-98e2-4b2376c030fa",
   "metadata": {},
   "outputs": [
    {
     "name": "stdout",
     "output_type": "stream",
     "text": [
      "Total files in 'images/psoriasis': 653\n"
     ]
    }
   ],
   "source": [
    "folder_path = \"images/psoriasis\"\n",
    "all_files = [f for f in os.listdir(folder_path) if os.path.isfile(os.path.join(folder_path, f))]\n",
    "print(f\"Total files in '{folder_path}': {len(all_files)}\")\n"
   ]
  },
  {
   "cell_type": "code",
   "execution_count": null,
   "id": "f43983c6-8b08-4f0f-818d-23219739d494",
   "metadata": {},
   "outputs": [],
   "source": [
    "#############################################################################################################################################"
   ]
  },
  {
   "cell_type": "code",
   "execution_count": 10,
   "id": "cf85d3fe-e65b-4f93-8770-6bc31883b1ad",
   "metadata": {},
   "outputs": [
    {
     "name": "stderr",
     "output_type": "stream",
     "text": [
      "/Users/anuragpathak/Downloads/PemphigusImageProject/U-2-Net/model/u2net.py:23: UserWarning: `nn.functional.upsample` is deprecated. Use `nn.functional.interpolate` instead.\n",
      "  src = F.upsample(src,size=tar.shape[2:],mode='bilinear')\n"
     ]
    }
   ],
   "source": [
    "import os\n",
    "import cv2\n",
    "import torch\n",
    "import numpy as np\n",
    "from PIL import Image\n",
    "from torchvision import transforms\n",
    "\n",
    "# Add U-2-Net code folder to path\n",
    "import sys\n",
    "sys.path.append(\"U-2-Net\")  # make sure this matches your actual folder name\n",
    "\n",
    "# Now import the model\n",
    "from model import U2NETP\n",
    "\n",
    "# Load model\n",
    "def load_model(model_path='U-2-Net/saved_models/u2net/u2netp.pth'):\n",
    "    from model import U2NETP\n",
    "    net = U2NETP(3, 1)  # Use the correct small model\n",
    "    net.load_state_dict(torch.load(model_path, map_location='cpu'))\n",
    "    net.eval()\n",
    "    return net\n",
    "\n",
    "# Preprocess image\n",
    "def preprocess_image(img_path):\n",
    "    image = Image.open(img_path).convert(\"RGB\").resize((320, 320))\n",
    "    transform = transforms.Compose([\n",
    "        transforms.ToTensor(),\n",
    "        transforms.Normalize([0.485, 0.456, 0.406], \n",
    "                             [0.229, 0.224, 0.225])])\n",
    "    return transform(image).unsqueeze(0), image\n",
    "\n",
    "# Convert model output to usable mask\n",
    "def postprocess_mask(pred):\n",
    "    pred = pred.squeeze().cpu().data.numpy()\n",
    "    pred = (pred - pred.min()) / (pred.max() - pred.min())\n",
    "    return (pred * 255).astype(np.uint8)\n",
    "\n",
    "# Apply mask to image\n",
    "def apply_mask(image, mask):\n",
    "    image = image.resize(mask.size)\n",
    "    image_np = np.array(image)\n",
    "    mask_np = np.array(mask)\n",
    "    mask_3c = np.stack([mask_np]*3, axis=-1)\n",
    "    result = np.where(mask_3c > 128, image_np, 0)\n",
    "    return Image.fromarray(result)\n",
    "\n",
    "# Batch process folder\n",
    "def remove_background_from_folder(input_folder, output_folder, model):\n",
    "    os.makedirs(output_folder, exist_ok=True)\n",
    "    files = [f for f in os.listdir(input_folder) if f.lower().endswith(('.jpg', '.jpeg', '.png'))]\n",
    "\n",
    "    for file in files:\n",
    "        img_path = os.path.join(input_folder, file)\n",
    "        img_tensor, original_img = preprocess_image(img_path)\n",
    "\n",
    "        with torch.no_grad():\n",
    "            d1, *_ = model(img_tensor)\n",
    "            mask = postprocess_mask(d1)\n",
    "\n",
    "        mask_img = Image.fromarray(mask).resize(original_img.size)\n",
    "        final_img = apply_mask(original_img, mask_img)\n",
    "        final_img.save(os.path.join(output_folder, file))\n",
    "\n",
    "# Run it\n",
    "model = load_model()\n",
    "remove_background_from_folder(\"images/psoriasis\", \"images/psoriasis_nobg\", model)\n"
   ]
  },
  {
   "cell_type": "code",
   "execution_count": null,
   "id": "1229bc44-867d-4bdc-bc67-e4ba65629776",
   "metadata": {},
   "outputs": [],
   "source": []
  },
  {
   "cell_type": "code",
   "execution_count": 6,
   "id": "f12f0fa8-5ebd-478c-8f67-8ac92ffc81ad",
   "metadata": {},
   "outputs": [],
   "source": []
  },
  {
   "cell_type": "code",
   "execution_count": 7,
   "id": "82f045d3-b30b-4dc1-9d1b-b3b38ac8615a",
   "metadata": {},
   "outputs": [],
   "source": []
  },
  {
   "cell_type": "code",
   "execution_count": 9,
   "id": "7d02240d-5134-45c6-8922-f298d4c0437d",
   "metadata": {},
   "outputs": [],
   "source": []
  },
  {
   "cell_type": "code",
   "execution_count": 37,
   "id": "2cda0712-6bc2-4818-84cb-1d9b2e113472",
   "metadata": {},
   "outputs": [],
   "source": []
  },
  {
   "cell_type": "code",
   "execution_count": null,
   "id": "f971e213-f265-47d0-8929-452c17e9943a",
   "metadata": {},
   "outputs": [],
   "source": [
    "##########################################################"
   ]
  },
  {
   "cell_type": "code",
   "execution_count": 1,
   "id": "e7b0e3ca-cb58-4337-9f7e-539fa37f0575",
   "metadata": {},
   "outputs": [],
   "source": []
  },
  {
   "cell_type": "code",
   "execution_count": 2,
   "id": "b126b28c-4d1d-4855-a4d0-b85250223a0b",
   "metadata": {},
   "outputs": [],
   "source": []
  },
  {
   "cell_type": "code",
   "execution_count": 10,
   "id": "5b999d99-e021-46b1-91be-5abd2b00ac91",
   "metadata": {},
   "outputs": [],
   "source": []
  }
 ],
 "metadata": {
  "kernelspec": {
   "display_name": "Python 3 (ipykernel)",
   "language": "python",
   "name": "python3"
  },
  "language_info": {
   "codemirror_mode": {
    "name": "ipython",
    "version": 3
   },
   "file_extension": ".py",
   "mimetype": "text/x-python",
   "name": "python",
   "nbconvert_exporter": "python",
   "pygments_lexer": "ipython3",
   "version": "3.12.4"
  }
 },
 "nbformat": 4,
 "nbformat_minor": 5
}
